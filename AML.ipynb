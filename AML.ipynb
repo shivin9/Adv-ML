{
  "nbformat": 4,
  "nbformat_minor": 0,
  "metadata": {
    "colab": {
      "name": "AML.ipynb",
      "provenance": [],
      "collapsed_sections": []
    },
    "kernelspec": {
      "name": "python3",
      "display_name": "Python 3"
    },
    "language_info": {
      "name": "python"
    },
    "accelerator": "GPU"
  },
  "cells": [
    {
      "cell_type": "code",
      "metadata": {
        "colab": {
          "base_uri": "https://localhost:8080/"
        },
        "id": "00it5HvpTdJQ",
        "outputId": "52e3e847-3a60-463c-8367-97a4d9f6d892"
      },
      "source": [
        "from google.colab import drive\n",
        "import numpy as np\n",
        "import os\n",
        "import networkx as nx\n",
        "from matplotlib import pyplot as plt\n",
        "import itertools\n",
        "from nltk.stem import PorterStemmer\n",
        "from nltk.tokenize import word_tokenize\n",
        "np.warnings.filterwarnings('ignore', category=np.VisibleDeprecationWarning)\n",
        "drive.mount('/content/gdrive')"
      ],
      "execution_count": 1,
      "outputs": [
        {
          "output_type": "stream",
          "text": [
            "Mounted at /content/gdrive\n"
          ],
          "name": "stdout"
        }
      ]
    },
    {
      "cell_type": "code",
      "metadata": {
        "id": "YNszbIYQUCl4",
        "colab": {
          "base_uri": "https://localhost:8080/"
        },
        "outputId": "25131358-7a46-49a8-bbf7-d0f5d6ed715c"
      },
      "source": [
        "! pip install transformers\n",
        "! pip install --upgrade pip\n",
        "! pip install sentencepiece\n",
        "! pip install umap-learn"
      ],
      "execution_count": 2,
      "outputs": [
        {
          "output_type": "stream",
          "text": [
            "Collecting transformers\n",
            "\u001b[?25l  Downloading https://files.pythonhosted.org/packages/d8/b2/57495b5309f09fa501866e225c84532d1fd89536ea62406b2181933fb418/transformers-4.5.1-py3-none-any.whl (2.1MB)\n",
            "\u001b[K     |████████████████████████████████| 2.1MB 5.7MB/s \n",
            "\u001b[?25hRequirement already satisfied: requests in /usr/local/lib/python3.7/dist-packages (from transformers) (2.23.0)\n",
            "Requirement already satisfied: tqdm>=4.27 in /usr/local/lib/python3.7/dist-packages (from transformers) (4.41.1)\n",
            "Collecting tokenizers<0.11,>=0.10.1\n",
            "\u001b[?25l  Downloading https://files.pythonhosted.org/packages/ae/04/5b870f26a858552025a62f1649c20d29d2672c02ff3c3fb4c688ca46467a/tokenizers-0.10.2-cp37-cp37m-manylinux2010_x86_64.whl (3.3MB)\n",
            "\u001b[K     |████████████████████████████████| 3.3MB 29.1MB/s \n",
            "\u001b[?25hRequirement already satisfied: importlib-metadata; python_version < \"3.8\" in /usr/local/lib/python3.7/dist-packages (from transformers) (3.10.0)\n",
            "Collecting sacremoses\n",
            "\u001b[?25l  Downloading https://files.pythonhosted.org/packages/08/cd/342e584ee544d044fb573ae697404ce22ede086c9e87ce5960772084cad0/sacremoses-0.0.44.tar.gz (862kB)\n",
            "\u001b[K     |████████████████████████████████| 870kB 28.9MB/s \n",
            "\u001b[?25hRequirement already satisfied: filelock in /usr/local/lib/python3.7/dist-packages (from transformers) (3.0.12)\n",
            "Requirement already satisfied: numpy>=1.17 in /usr/local/lib/python3.7/dist-packages (from transformers) (1.19.5)\n",
            "Requirement already satisfied: packaging in /usr/local/lib/python3.7/dist-packages (from transformers) (20.9)\n",
            "Requirement already satisfied: regex!=2019.12.17 in /usr/local/lib/python3.7/dist-packages (from transformers) (2019.12.20)\n",
            "Requirement already satisfied: urllib3!=1.25.0,!=1.25.1,<1.26,>=1.21.1 in /usr/local/lib/python3.7/dist-packages (from requests->transformers) (1.24.3)\n",
            "Requirement already satisfied: idna<3,>=2.5 in /usr/local/lib/python3.7/dist-packages (from requests->transformers) (2.10)\n",
            "Requirement already satisfied: certifi>=2017.4.17 in /usr/local/lib/python3.7/dist-packages (from requests->transformers) (2020.12.5)\n",
            "Requirement already satisfied: chardet<4,>=3.0.2 in /usr/local/lib/python3.7/dist-packages (from requests->transformers) (3.0.4)\n",
            "Requirement already satisfied: zipp>=0.5 in /usr/local/lib/python3.7/dist-packages (from importlib-metadata; python_version < \"3.8\"->transformers) (3.4.1)\n",
            "Requirement already satisfied: typing-extensions>=3.6.4; python_version < \"3.8\" in /usr/local/lib/python3.7/dist-packages (from importlib-metadata; python_version < \"3.8\"->transformers) (3.7.4.3)\n",
            "Requirement already satisfied: six in /usr/local/lib/python3.7/dist-packages (from sacremoses->transformers) (1.15.0)\n",
            "Requirement already satisfied: click in /usr/local/lib/python3.7/dist-packages (from sacremoses->transformers) (7.1.2)\n",
            "Requirement already satisfied: joblib in /usr/local/lib/python3.7/dist-packages (from sacremoses->transformers) (1.0.1)\n",
            "Requirement already satisfied: pyparsing>=2.0.2 in /usr/local/lib/python3.7/dist-packages (from packaging->transformers) (2.4.7)\n",
            "Building wheels for collected packages: sacremoses\n",
            "  Building wheel for sacremoses (setup.py) ... \u001b[?25l\u001b[?25hdone\n",
            "  Created wheel for sacremoses: filename=sacremoses-0.0.44-cp37-none-any.whl size=886084 sha256=f3b2c2f039a76cd43ae65949613abbaa651af51ad55c2a726ab69e7324571966\n",
            "  Stored in directory: /root/.cache/pip/wheels/3e/fb/c0/13ab4d63d537658f448366744654323077c4d90069b6512f3c\n",
            "Successfully built sacremoses\n",
            "Installing collected packages: tokenizers, sacremoses, transformers\n",
            "Successfully installed sacremoses-0.0.44 tokenizers-0.10.2 transformers-4.5.1\n",
            "Collecting pip\n",
            "\u001b[?25l  Downloading https://files.pythonhosted.org/packages/fe/ef/60d7ba03b5c442309ef42e7d69959f73aacccd0d86008362a681c4698e83/pip-21.0.1-py3-none-any.whl (1.5MB)\n",
            "\u001b[K     |████████████████████████████████| 1.5MB 4.1MB/s \n",
            "\u001b[?25hInstalling collected packages: pip\n",
            "  Found existing installation: pip 19.3.1\n",
            "    Uninstalling pip-19.3.1:\n",
            "      Successfully uninstalled pip-19.3.1\n",
            "Successfully installed pip-21.0.1\n",
            "Collecting sentencepiece\n",
            "  Downloading sentencepiece-0.1.95-cp37-cp37m-manylinux2014_x86_64.whl (1.2 MB)\n",
            "\u001b[K     |████████████████████████████████| 1.2 MB 5.5 MB/s \n",
            "\u001b[?25hInstalling collected packages: sentencepiece\n",
            "Successfully installed sentencepiece-0.1.95\n",
            "Collecting umap-learn\n",
            "  Downloading umap-learn-0.5.1.tar.gz (80 kB)\n",
            "\u001b[K     |████████████████████████████████| 80 kB 3.2 MB/s \n",
            "\u001b[?25hRequirement already satisfied: numpy>=1.17 in /usr/local/lib/python3.7/dist-packages (from umap-learn) (1.19.5)\n",
            "Requirement already satisfied: scikit-learn>=0.22 in /usr/local/lib/python3.7/dist-packages (from umap-learn) (0.22.2.post1)\n",
            "Requirement already satisfied: scipy>=1.0 in /usr/local/lib/python3.7/dist-packages (from umap-learn) (1.4.1)\n",
            "Requirement already satisfied: numba>=0.49 in /usr/local/lib/python3.7/dist-packages (from umap-learn) (0.51.2)\n",
            "Collecting pynndescent>=0.5\n",
            "  Downloading pynndescent-0.5.2.tar.gz (1.1 MB)\n",
            "\u001b[K     |████████████████████████████████| 1.1 MB 7.5 MB/s \n",
            "\u001b[?25hRequirement already satisfied: llvmlite<0.35,>=0.34.0.dev0 in /usr/local/lib/python3.7/dist-packages (from numba>=0.49->umap-learn) (0.34.0)\n",
            "Requirement already satisfied: setuptools in /usr/local/lib/python3.7/dist-packages (from numba>=0.49->umap-learn) (54.2.0)\n",
            "Requirement already satisfied: joblib>=0.11 in /usr/local/lib/python3.7/dist-packages (from pynndescent>=0.5->umap-learn) (1.0.1)\n",
            "Building wheels for collected packages: umap-learn, pynndescent\n",
            "  Building wheel for umap-learn (setup.py) ... \u001b[?25l\u001b[?25hdone\n",
            "  Created wheel for umap-learn: filename=umap_learn-0.5.1-py3-none-any.whl size=76566 sha256=d5c9705b84f602d72db66e720c5feb0ba8a2164c6dfd7492603e94f3707d3f3e\n",
            "  Stored in directory: /root/.cache/pip/wheels/01/e7/bb/347dc0e510803d7116a13d592b10cc68262da56a8eec4dd72f\n",
            "  Building wheel for pynndescent (setup.py) ... \u001b[?25l\u001b[?25hdone\n",
            "  Created wheel for pynndescent: filename=pynndescent-0.5.2-py3-none-any.whl size=51347 sha256=d86ddd934606109c55c030f24641ce671d5c60bfcd0dee93f0bf2c53ad3b7f8c\n",
            "  Stored in directory: /root/.cache/pip/wheels/62/0b/55/40d651c5a4106ea9ce68d014335a1c7bf059530722c0107b15\n",
            "Successfully built umap-learn pynndescent\n",
            "Installing collected packages: pynndescent, umap-learn\n",
            "Successfully installed pynndescent-0.5.2 umap-learn-0.5.1\n"
          ],
          "name": "stdout"
        }
      ]
    },
    {
      "cell_type": "code",
      "metadata": {
        "id": "m1fMBnXUTWJp"
      },
      "source": [
        "from transformers import AutoTokenizer, AutoModelWithLMHead\n",
        "from torch.utils.data import Dataset, DataLoader\n",
        "import pandas as pd\n",
        "import textwrap\n",
        "import spacy\n",
        "import en_core_web_sm\n",
        "from tqdm import tqdm"
      ],
      "execution_count": 3,
      "outputs": []
    },
    {
      "cell_type": "code",
      "metadata": {
        "colab": {
          "base_uri": "https://localhost:8080/"
        },
        "id": "jMr7fFP0TiZL",
        "outputId": "4d010337-4980-409b-9b23-088667e5c3f7"
      },
      "source": [
        "% cd /content/gdrive/My Drive/aml"
      ],
      "execution_count": 4,
      "outputs": [
        {
          "output_type": "stream",
          "text": [
            "/content/gdrive/My Drive/aml\n"
          ],
          "name": "stdout"
        }
      ]
    },
    {
      "cell_type": "code",
      "metadata": {
        "colab": {
          "base_uri": "https://localhost:8080/"
        },
        "id": "i_74uuoUUxSa",
        "outputId": "6fcd8bfe-89fa-4b2e-a653-b1eb63b4b4be"
      },
      "source": [
        "tokenizer = AutoTokenizer.from_pretrained(\"mrm8488/t5-base-finetuned-emotion\")\n",
        "model = AutoModelWithLMHead.from_pretrained(\"mrm8488/t5-base-finetuned-emotion\")\n",
        "device='cuda:0'"
      ],
      "execution_count": 5,
      "outputs": [
        {
          "output_type": "stream",
          "text": [
            "/usr/local/lib/python3.7/dist-packages/transformers/models/auto/modeling_auto.py:762: FutureWarning: The class `AutoModelWithLMHead` is deprecated and will be removed in a future version. Please use `AutoModelForCausalLM` for causal language models, `AutoModelForMaskedLM` for masked language models and `AutoModelForSeq2SeqLM` for encoder-decoder models.\n",
            "  FutureWarning,\n"
          ],
          "name": "stderr"
        }
      ]
    },
    {
      "cell_type": "code",
      "metadata": {
        "id": "gzJWKuKeWukL"
      },
      "source": [
        "def get_emotion(text):\n",
        "  input_ids = tokenizer.encode(text + '</s>', return_tensors='pt')\n",
        "  output = model.generate(input_ids=input_ids, max_length=2)\n",
        "  print(output)\n",
        "  dec = [tokenizer.decode(ids) for ids in output]\n",
        "  # print(dec)\n",
        "  label = dec[0]\n",
        "  return label"
      ],
      "execution_count": 6,
      "outputs": []
    },
    {
      "cell_type": "code",
      "metadata": {
        "id": "iZHPEn0FcsEO"
      },
      "source": [
        "class EmotionDataset(Dataset):\n",
        "  def __init__(self, tokenizer, data_dir, type_path,  max_len=512):\n",
        "    self.path = os.path.join(data_dir, type_path + '.txt')\n",
        "\n",
        "    # self.data_column = \"text\"\n",
        "    # self.class_column = \"emotion\"\n",
        "    self.data = pd.read_csv(self.path, header=None, engine=\"python\")\n",
        "    print(len(self.data))\n",
        "    self.max_len = max_len\n",
        "    self.tokenizer = tokenizer\n",
        "    self.inputs = []\n",
        "    # self.targets = []\n",
        "\n",
        "    self._build()\n",
        "  \n",
        "  def __len__(self):\n",
        "    return len(self.inputs)\n",
        "  \n",
        "  def __getitem__(self, index):\n",
        "    source_ids = self.inputs[index][\"input_ids\"].squeeze()\n",
        "    # target_ids = self.targets[index][\"input_ids\"].squeeze()\n",
        "\n",
        "    src_mask    = self.inputs[index][\"attention_mask\"].squeeze()  # might need to squeeze\n",
        "    # target_mask = self.targets[index][\"attention_mask\"].squeeze()  # might need to squeeze\n",
        "\n",
        "    return {\"source_ids\": source_ids, \"source_mask\": src_mask}\n",
        "  \n",
        "  def _build(self):\n",
        "    for idx in range(len(self.data)):\n",
        "      # input_, target = self.data.loc[idx, self.data_column], self.data.loc[idx, self.class_column]      \n",
        "      input_ = self.data.loc[idx][0]\n",
        "      \n",
        "      input_ = input_ + ' </s>'\n",
        "      # print(self.data.loc[idx])\n",
        "       # tokenize inputs\n",
        "      tokenized_inputs = self.tokenizer.batch_encode_plus(\n",
        "          [input_], max_length=self.max_len, pad_to_max_length=True, return_tensors=\"pt\"\n",
        "      )\n",
        "       # tokenize targets\n",
        "      # tokenized_targets = self.tokenizer.batch_encode_plus(\n",
        "      #     [target], max_length=2, pad_to_max_length=True, return_tensors=\"pt\"\n",
        "      # )\n",
        "\n",
        "      self.inputs.append(tokenized_inputs)\n",
        "      # self.targets.append(tokenized_targets)\n",
        "\n",
        "emotions = [\"sadness\", \"joy\", \"love\", \"anger\", \"fear\", \"surprise\", \"positive\"]\n",
        "\n",
        "def one_hot_emotion(emo):\n",
        "  out = np.zeros(7)\n",
        "  idx = emotions.index(emo)\n",
        "  out[idx] = 1\n",
        "  return out"
      ],
      "execution_count": 7,
      "outputs": []
    },
    {
      "cell_type": "code",
      "metadata": {
        "id": "rLK9XQ9pWzf6"
      },
      "source": [
        "# get_emotion(\"i feel as if i havent blogged in ages are at least truly blogged i am doing an update cute\") # Output: 'joy'\n",
        "months = [\"jan\", \"feb\", \"apr\", \"jun\", 'aug', 'dec']"
      ],
      "execution_count": 8,
      "outputs": []
    },
    {
      "cell_type": "code",
      "metadata": {
        "id": "g9NlKODskngD"
      },
      "source": [
        "month_data = {}\n",
        "month_emos = {}\n",
        "model = model.to(device)\n",
        "for month in months[:1]:\n",
        "  print(\"Mining emotions for month \", month)\n",
        "  dataset = EmotionDataset(tokenizer, 'aml', month, 128)\n",
        "  loader = DataLoader(dataset, batch_size=512, shuffle=True)\n",
        "  it = iter(loader)\n",
        "  data = []\n",
        "  emos = []\n",
        "  cnt = 0\n",
        "  while True:\n",
        "      try:\n",
        "          batch = next(it)\n",
        "      except StopIteration:\n",
        "          break  # Iterator exhausted: stop the loop\n",
        "      else:\n",
        "          input_ids =  batch['source_ids'].to(device)\n",
        "          attention_mask = batch['source_mask'].to(device)\n",
        "          outs = model.generate(input_ids= input_ids, \n",
        "                                        attention_mask=attention_mask,\n",
        "                                        max_length=2)\n",
        "          dec = [tokenizer.decode(ids) for ids in outs]\n",
        "          texts = [tokenizer.decode(ids) for ids in batch['source_ids']]\n",
        "          data += texts\n",
        "          emos.append\n",
        "          for i in tqdm(range(len(texts))):\n",
        "            c = texts[i]\n",
        "            emos.append(dec[i])\n",
        "          print(emos[-1])\n",
        "          print(data[-1])\n",
        "  month_data[month] = data\n",
        "  month_emos[month] = emos\n",
        "  pd.DataFrame(data, index=None).to_csv(month + \"_data\" + \".csv\", sep='\\n', index=None, header=None)\n",
        "  pd.DataFrame(emos, index=None).to_csv(month + \"_emos\" + \".csv\", sep='\\n', index=None, header=None)"
      ],
      "execution_count": null,
      "outputs": []
    },
    {
      "cell_type": "code",
      "metadata": {
        "id": "-z0XtBSvp3OX"
      },
      "source": [
        "class SpacyNER:\n",
        "    def ner(self,doc):    \n",
        "        nlp = en_core_web_sm.load()\n",
        "        doc = nlp(doc)\n",
        "        # doc.max_length = 10000000\n",
        "        return [(X.text, X.label_) for X in doc.ents]\n",
        "    \n",
        "    def ner_to_dict(self,ner):\n",
        "        \"\"\"\n",
        "        Expects ner of the form list of tuples \n",
        "        \"\"\"\n",
        "        ner_dict = {}\n",
        "        for tup in ner:\n",
        "            ner_dict[tup[0]] = tup[1]\n",
        "        return ner_dict\n",
        "    \n",
        "    def display(self,ner):\n",
        "        print(ner)\n",
        "        print(\"\\n\")\n",
        "\n",
        "def split(lst, sep):\n",
        "\tsize = len(lst)\n",
        "\tidx_list = [idx + 1 for idx, val in enumerate(lst) if val == sep]\n",
        "\tres = [lst[i: j] for i, j in\n",
        "\t        zip([0] + idx_list, idx_list + \n",
        "\t        ([size] if idx_list[-1] != size else []))]\n",
        "\treturn res"
      ],
      "execution_count": null,
      "outputs": []
    },
    {
      "cell_type": "code",
      "metadata": {
        "id": "qARo6H-BtOwi"
      },
      "source": [
        "print(\"\\nusing Spacy for NER\\n\")\n",
        "spacy_ner = SpacyNER()\n",
        "nlp = spacy.load('en_core_web_sm') \n",
        "# nlp.max_length = 10000000 #or any large value, as long as you don't run out of RAM\n",
        "# doc = nlp(doc)\n",
        "doc = month_data[\"jan\"][1]\n",
        "print(doc)\n",
        "named_entities = spacy_ner.ner(doc)\n",
        "spacy_ner.display(named_entities)\n",
        "named_entities = spacy_ner.ner_to_dict(named_entities)\n",
        "print(named_entities)\n",
        "print(month_emos[\"jan\"][1])"
      ],
      "execution_count": null,
      "outputs": []
    },
    {
      "cell_type": "markdown",
      "metadata": {
        "id": "SMl6RLR6wtgR"
      },
      "source": [
        "## Prepare Text for NER"
      ]
    },
    {
      "cell_type": "code",
      "metadata": {
        "id": "TIhrRZ3cRKSM"
      },
      "source": [
        "month_data = {}\n",
        "month_emos = {}\n",
        "\n",
        "for month in months:\n",
        "  # month_data[month] = []\n",
        "  f = open(month + \"_data.csv\", \"r\")\n",
        "  lines = f.readlines()\n",
        "  for i in range(len(lines)):\n",
        "    # add dummy token to speed up NER\n",
        "    lines[i] = lines[i].split(\"</s>\")[0]\n",
        "    lines[i] = lines[i].replace(\"<unk>\", \"\")\n",
        "    lines[i] += \". No 10%.\"\n",
        "  # month_data[month].append(\"  \".join(lines))\n",
        "  month_data[month] = lines\n",
        "\n",
        "  f = open(month + \"_emos.csv\", \"r\")\n",
        "  lines = f.readlines()\n",
        "  for i in range(len(lines)):\n",
        "    lines[i] = lines[i].replace(\"<pad> \", \"\").replace(\"\\n\", \"\")\n",
        "  month_emos[month] = lines"
      ],
      "execution_count": null,
      "outputs": []
    },
    {
      "cell_type": "markdown",
      "metadata": {
        "id": "bG4NkK1xwxjJ"
      },
      "source": [
        "## Doing NER (batch wise)"
      ]
    },
    {
      "cell_type": "code",
      "metadata": {
        "id": "_0XlvyZCV85E"
      },
      "source": [
        "# Find all named entities for all months\n",
        "named_entity_month = {}\n",
        "\n",
        "for month in months:\n",
        "  vertices[month] = {}\n",
        "  print(\"Doing NER for month: \" + month)\n",
        "  l = 0\n",
        "  named_entities = []\n",
        "  while l < len(month_data[month]):\n",
        "    lines = month_data[month][l:l+5000]\n",
        "    concat_lines = \"  \".join(lines)\n",
        "    ne = spacy_ner.ner(concat_lines)\n",
        "    res = split(ne, ('No 10%', 'PERCENT'))\n",
        "    named_entities.append(res)\n",
        "    l += 5000\n",
        "  named_entity_month[month] = list(itertools.chain.from_iterable(named_entities))"
      ],
      "execution_count": null,
      "outputs": []
    },
    {
      "cell_type": "markdown",
      "metadata": {
        "id": "1_f-U9jSw8Eg"
      },
      "source": [
        "### Doing NER (line wise)"
      ]
    },
    {
      "cell_type": "code",
      "metadata": {
        "id": "VaVu6Zk_w5YJ"
      },
      "source": [
        "def get_ne_emos(month, CHUNK=100):\n",
        "  named_entity_month = {}\n",
        "  # month = 'dec'\n",
        "  vertices[month] = {}\n",
        "  print(\"Doing NER for month: \" + month)\n",
        "  l = 0\n",
        "  named_entities = []\n",
        "  emos = []\n",
        "  CHUNK = 100\n",
        "  while l < len(month_data[month]):\n",
        "    lines = month_data[month][l:l+CHUNK]\n",
        "    concat_lines = \"  \".join(lines)\n",
        "    ne = spacy_ner.ner(concat_lines)\n",
        "    res = split(ne, ('No 10%', 'PERCENT'))\n",
        "    # only add a chunk if the NER is able to mine out\n",
        "    # all the dummy tokens\n",
        "    if len(res) == len(lines):\n",
        "      named_entities.append(res)\n",
        "      emos.append(month_emos[month][l:l+CHUNK])\n",
        "    l += CHUNK\n",
        "    print(l)\n",
        "  named_entity_month[month] = list(itertools.chain.from_iterable(named_entities))\n",
        "  month_emos[month] = list(itertools.chain.from_iterable(emos))\n",
        "  return named_entity_month, month_emos"
      ],
      "execution_count": null,
      "outputs": []
    },
    {
      "cell_type": "markdown",
      "metadata": {
        "id": "Rqk4HfkQmJlj"
      },
      "source": [
        "## Create Graph"
      ]
    },
    {
      "cell_type": "code",
      "metadata": {
        "id": "cutrtcJBGK2C"
      },
      "source": [
        "def generate_graph(month):\n",
        "  labels = ['ORG', 'NORP', 'PERSON', 'FAC', 'GPE']\n",
        "  G = [nx.Graph() for i in range(7)]\n",
        "  ps = PorterStemmer()\n",
        "  vertices[month] = {}\n",
        "  for i in range(len(named_entity_month[month])):\n",
        "    emo = month_emos[month][i]\n",
        "    # get named entities for particular month and particular comment\n",
        "    named_entities = named_entity_month[month][i]\n",
        "    if emo in emotions:\n",
        "      # corresponding emotion for that comment of that month\n",
        "      idx = emotions.index(emo)\n",
        "      selected_named_entities = []\n",
        "      for ne in named_entities:\n",
        "        if ne[1] in labels:\n",
        "          named_entity = ps.stem(ne[0])\n",
        "          selected_named_entities.append(named_entity)\n",
        "          if named_entity in vertices[month]:\n",
        "            vertices[month][named_entity][idx] += 1\n",
        "          else:\n",
        "            vertices[month][named_entity] = one_hot_emotion(emo)\n",
        "\n",
        "      # generate a complete graph\n",
        "      for edge in itertools.permutations(selected_named_entities, 2):\n",
        "        if edge in G[idx].edges:\n",
        "          G[idx].edges[edge]['weight'] += 1\n",
        "        else:\n",
        "          G[idx].add_edge(edge[0], edge[1], weight=1)\n",
        "\n",
        "  print(\"Saving graph\")\n",
        "  for e_idx in range(len(emotions)):\n",
        "    with open(\"./\" + \"_\" + emotions[e_idx] + \"_graph.p\", 'wb') as f: \n",
        "      pickle.dump(G[e_idx], f)\n",
        "  return vertices, G"
      ],
      "execution_count": null,
      "outputs": []
    },
    {
      "cell_type": "code",
      "metadata": {
        "id": "X27qe6Ay_mTY"
      },
      "source": [
        "entity_dict = {}\n",
        "# relation_dict is fixed: 1-6\n",
        "cnt = 7\n",
        "for entity in vertices:\n",
        "  if entity not in entity_dict:\n",
        "    entity_dict[entity] = cnt\n",
        "    cnt += 1"
      ],
      "execution_count": null,
      "outputs": []
    },
    {
      "cell_type": "markdown",
      "metadata": {
        "id": "Z8b8jRqOQLuJ"
      },
      "source": [
        "### Install Ampligraph"
      ]
    },
    {
      "cell_type": "code",
      "metadata": {
        "id": "zD6opIWYQI-E"
      },
      "source": [
        "! pip install ampligraph\n",
        "! pip uninstall tensorflow\n",
        "! pip install tensorflow==1.13.2"
      ],
      "execution_count": null,
      "outputs": []
    },
    {
      "cell_type": "code",
      "metadata": {
        "id": "3WKkL_VLQowM"
      },
      "source": [
        "from ampligraph.datasets import load_from_csv\n",
        "from ampligraph.latent_features import TransE\n",
        "import umap\n",
        "from google.colab import files"
      ],
      "execution_count": 11,
      "outputs": []
    },
    {
      "cell_type": "code",
      "metadata": {
        "id": "0MrD-Aa1QrKc"
      },
      "source": [
        "graph = load_from_csv(\"/content/gdrive/MyDrive/aml/kg\", \"aug.csv\", sep=\"\\t\")\n",
        "reducer = umap.UMAP()"
      ],
      "execution_count": 50,
      "outputs": []
    },
    {
      "cell_type": "code",
      "metadata": {
        "id": "jN-JAOrFRTBe"
      },
      "source": [
        "model = TransE(batches_count=5, seed=555, epochs=500, k=20, loss='pairwise', loss_params={'margin':5})\n",
        "model.fit(graph)"
      ],
      "execution_count": 51,
      "outputs": []
    },
    {
      "cell_type": "code",
      "metadata": {
        "id": "nVpEwRgJ0CbE"
      },
      "source": [
        "embs = []\n",
        "clrs = []\n",
        "for edge in graph:\n",
        "  embs.append(model.get_embeddings([edge[0]], embedding_type='entity')[0])\n",
        "  # embs.append(model.get_embeddings([edge[2]], embedding_type='entity')[0])\n",
        "  clrs.append(edge[1])\n",
        "  # clrs.append(edge[1])"
      ],
      "execution_count": 52,
      "outputs": []
    },
    {
      "cell_type": "code",
      "metadata": {
        "colab": {
          "base_uri": "https://localhost:8080/"
        },
        "id": "BoW87YDz84Ya",
        "outputId": "a4c3106b-a0d5-4ce6-b7d5-88c42a7d720e"
      },
      "source": [
        "np.bincount(clrs)"
      ],
      "execution_count": 47,
      "outputs": [
        {
          "output_type": "execute_result",
          "data": {
            "text/plain": [
              "array([ 384, 3218,  165,  874,  640,   74])"
            ]
          },
          "metadata": {
            "tags": []
          },
          "execution_count": 47
        }
      ]
    },
    {
      "cell_type": "code",
      "metadata": {
        "id": "LLd9YwjD1MEV"
      },
      "source": [
        "# print(embs)\n",
        "X2 = reducer.fit_transform(np.array(embs))"
      ],
      "execution_count": 53,
      "outputs": []
    },
    {
      "cell_type": "code",
      "metadata": {
        "colab": {
          "base_uri": "https://localhost:8080/",
          "height": 265
        },
        "id": "9tNFrYPr3f-8",
        "outputId": "4ff4ba35-ad35-448a-baf9-2f0e0e62127e"
      },
      "source": [
        "# print(X2.shape)\n",
        "color = ['grey', 'yellow', 'brown', 'pink', 'blue', 'red', 'magenta', 'purple', 'orange', 'cyan', 'olive']\n",
        "c = [color[int(clrs[i])] for i in range(len(clrs))]\n",
        "plt.scatter(X2[:,0], X2[:,1], color = c)\n",
        "# plt.show()\n",
        "plt.savefig(\"april.png\")\n",
        "files.download(\"april.png\") "
      ],
      "execution_count": 55,
      "outputs": [
        {
          "output_type": "display_data",
          "data": {
            "application/javascript": [
              "\n",
              "    async function download(id, filename, size) {\n",
              "      if (!google.colab.kernel.accessAllowed) {\n",
              "        return;\n",
              "      }\n",
              "      const div = document.createElement('div');\n",
              "      const label = document.createElement('label');\n",
              "      label.textContent = `Downloading \"${filename}\": `;\n",
              "      div.appendChild(label);\n",
              "      const progress = document.createElement('progress');\n",
              "      progress.max = size;\n",
              "      div.appendChild(progress);\n",
              "      document.body.appendChild(div);\n",
              "\n",
              "      const buffers = [];\n",
              "      let downloaded = 0;\n",
              "\n",
              "      const channel = await google.colab.kernel.comms.open(id);\n",
              "      // Send a message to notify the kernel that we're ready.\n",
              "      channel.send({})\n",
              "\n",
              "      for await (const message of channel.messages) {\n",
              "        // Send a message to notify the kernel that we're ready.\n",
              "        channel.send({})\n",
              "        if (message.buffers) {\n",
              "          for (const buffer of message.buffers) {\n",
              "            buffers.push(buffer);\n",
              "            downloaded += buffer.byteLength;\n",
              "            progress.value = downloaded;\n",
              "          }\n",
              "        }\n",
              "      }\n",
              "      const blob = new Blob(buffers, {type: 'application/binary'});\n",
              "      const a = document.createElement('a');\n",
              "      a.href = window.URL.createObjectURL(blob);\n",
              "      a.download = filename;\n",
              "      div.appendChild(a);\n",
              "      a.click();\n",
              "      div.remove();\n",
              "    }\n",
              "  "
            ],
            "text/plain": [
              "<IPython.core.display.Javascript object>"
            ]
          },
          "metadata": {
            "tags": []
          }
        },
        {
          "output_type": "display_data",
          "data": {
            "application/javascript": [
              "download(\"download_2d8f9850-679a-47f0-a98d-32e798455040\", \"april.png\", 22624)"
            ],
            "text/plain": [
              "<IPython.core.display.Javascript object>"
            ]
          },
          "metadata": {
            "tags": []
          }
        },
        {
          "output_type": "display_data",
          "data": {
            "image/png": "[encoded data removed]",
            "text/plain": [
              "<Figure size 432x288 with 1 Axes>"
            ]
          },
          "metadata": {
            "tags": [],
            "needs_background": "light"
          }
        }
      ]
    }
  ]
}